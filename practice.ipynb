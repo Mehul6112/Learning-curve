{
  "cells": [
    {
      "cell_type": "markdown",
      "metadata": {
        "id": "view-in-github",
        "colab_type": "text"
      },
      "source": [
        "<a href=\"https://colab.research.google.com/github/Mehul6112/Learning-curve/blob/main/practice.ipynb\" target=\"_parent\"><img src=\"https://colab.research.google.com/assets/colab-badge.svg\" alt=\"Open In Colab\"/></a>"
      ]
    },
    {
      "cell_type": "markdown",
      "metadata": {
        "id": "F8CykNkAC8g_"
      },
      "source": [
        "# Assignment 1 - Python Basics Practice\n",
        "\n",
        "*This assignment is a part of the course [\"Data Analysis with Python: Zero to Pandas\"](https://jovian.ml/learn/data-analysis-with-python-zero-to-pandas)*\n",
        "\n",
        "In this assignment, you'll get to practice some of the concepts and skills covered in the following notebooks:\n",
        "\n",
        "1. [First Steps with Python and Jupyter](https://jovian.ml/aakashns/first-steps-with-python)\n",
        "2. [A Quick Tour of Variables and Data Types](https://jovian.ml/aakashns/python-variables-and-data-types)\n",
        "3. [Branching using Conditional Statements and Loops](https://jovian.ml/aakashns/python-branching-and-loops)\n",
        "\n",
        "\n",
        "As you go through this notebook, you will find the symbol **???** in certain places. To complete this assignment, you must replace all the **???** with appropriate values, expressions or statements to ensure that the notebook runs properly end-to-end.\n",
        "\n",
        "**Guidelines**\n",
        "\n",
        "1. Make sure to run all the code cells, otherwise you may get errors like `NameError` for undefined variables.\n",
        "2. Do not change variable names, delete cells or disturb other existing code. It may cause problems during evaluation.\n",
        "3. In some cases, you may need to add some code cells or new statements before or after the line of code containing the **???**.\n",
        "4. Since you'll be using a free online service for code execution, save your work by running `jovian.commit` at regular intervals.\n",
        "5. Questions marked **(Optional)** will not be considered for evaluation, and can be skipped. They are for your learning.\n",
        "6. If you are stuck, you can ask for help on the course forum. Post errors, ask for hints and help others, but **please don't share the full solution answer code** to give others a chance to write the code themselves.\n",
        "7. After submission your code will be tested with some hidden test cases. Make sure to test your code exhaustively to cover all edge cases.\n",
        "\n",
        "\n",
        "Important Links:\n",
        "\n",
        "* Make submissions here: https://jovian.ml/learn/data-analysis-with-python-zero-to-pandas/assignment/assignment-1-python-basics-practice\n",
        "\n",
        "* Get help on the community forum: https://jovian.ml/forum/t/assignment-1-python-practice/7761 . You can get help with errors or ask for hints, but **please don't ask for or share the full working answer code** on the forum.\n"
      ]
    },
    {
      "cell_type": "markdown",
      "metadata": {
        "id": "otKiQiBxC8hJ"
      },
      "source": [
        "### How to Run the Code and Save Your Work\n",
        "\n",
        "**Option 1: Running using free online resources (1-click, recommended)**: Click the **Run** button at the top of this page and select **Run on Binder**. You can also select \"Run on Colab\" or \"Run on Kaggle\", but you'll need to create an account on [Google Colab](https://colab.research.google.com) or [Kaggle](https://kaggle.com) to use these platforms.\n",
        "\n",
        "\n",
        "**Option 2: Running on your computer locally**: To run the code on your computer locally, you'll need to set up [Python](https://www.python.org) & [Conda](https://docs.conda.io/projects/conda/en/latest/user-guide/install/), download the notebook and install the required libraries. Click the **Run** button at the top of this page, select the **Run Locally** option, and follow the instructions.\n",
        "\n",
        "**Saving your work**: You can save a snapshot of the assignment to your [Jovian](https://jovian.ai) profile, so that you can access it later and continue your work. Keep saving your work by running `jovian.commit` from time to time."
      ]
    },
    {
      "cell_type": "code",
      "execution_count": null,
      "metadata": {
        "id": "q0AcNjagC8hK",
        "outputId": "beda1e64-aa4a-4f79-d496-7872017c4194",
        "colab": {
          "base_uri": "https://localhost:8080/"
        }
      },
      "outputs": [
        {
          "output_type": "stream",
          "name": "stdout",
          "text": [
            "\u001b[?25l     \u001b[90m━━━━━━━━━━━━━━━━━━━━━━━━━━━━━━━━━━━━━━━━\u001b[0m \u001b[32m0.0/68.6 kB\u001b[0m \u001b[31m?\u001b[0m eta \u001b[36m-:--:--\u001b[0m\r\u001b[2K     \u001b[90m━━━━━━━━━━━━━━━━━━━━━━━━━━━━━━━━━━━━━━━━\u001b[0m \u001b[32m68.6/68.6 kB\u001b[0m \u001b[31m1.9 MB/s\u001b[0m eta \u001b[36m0:00:00\u001b[0m\n",
            "\u001b[?25h  Preparing metadata (setup.py) ... \u001b[?25l\u001b[?25hdone\n",
            "  Building wheel for uuid (setup.py) ... \u001b[?25l\u001b[?25hdone\n"
          ]
        }
      ],
      "source": [
        "# Install the library\n",
        "!pip install jovian --upgrade --quiet"
      ]
    },
    {
      "cell_type": "code",
      "execution_count": null,
      "metadata": {
        "id": "pdSlB7F9C8hN"
      },
      "outputs": [],
      "source": [
        "# Import it\n",
        "import jovian"
      ]
    },
    {
      "cell_type": "code",
      "execution_count": null,
      "metadata": {
        "id": "SGzm8a3eC8hO"
      },
      "outputs": [],
      "source": [
        "project_name='python-practice-assignment'"
      ]
    },
    {
      "cell_type": "code",
      "execution_count": null,
      "metadata": {
        "id": "hANdnOZVC8hQ",
        "outputId": "0bf85d94-5317-480e-eee0-11014c7706b6"
      },
      "outputs": [
        {
          "data": {
            "application/javascript": [
              "window.require && require([\"base/js/namespace\"],function(Jupyter){Jupyter.notebook.save_checkpoint()})"
            ],
            "text/plain": [
              "<IPython.core.display.Javascript object>"
            ]
          },
          "metadata": {},
          "output_type": "display_data"
        },
        {
          "name": "stdout",
          "output_type": "stream",
          "text": [
            "[jovian] Attempting to save notebook..\u001b[0m\n",
            "[jovian] Updating notebook \"aakashns/python-practice-assignment\" on https://jovian.ai/\u001b[0m\n",
            "[jovian] Uploading notebook..\u001b[0m\n",
            "[jovian] Capturing environment..\u001b[0m\n",
            "[jovian] Committed successfully! https://jovian.ai/aakashns/python-practice-assignment\u001b[0m\n"
          ]
        },
        {
          "data": {
            "text/plain": [
              "'https://jovian.ai/aakashns/python-practice-assignment'"
            ]
          },
          "execution_count": 4,
          "metadata": {},
          "output_type": "execute_result"
        }
      ],
      "source": [
        "# Capture and upload a snapshot\n",
        "jovian.commit(project=project_name, privacy='secret', evironment=None)"
      ]
    },
    {
      "cell_type": "markdown",
      "metadata": {
        "id": "BlApnMlyC8hT"
      },
      "source": [
        "You'll be asked to provide an API Key, to securely upload the notebook to your Jovian.ml account. You can get the API key from your Jovian.ml profile page after logging in / signing up. See the docs for details: https://jovian.ml/docs/user-guide/upload.html . The privacy of your assignment notebook is set to *Secret*, so that you can the evlauators can access it, but it will not shown on your public profile to other users."
      ]
    },
    {
      "cell_type": "markdown",
      "metadata": {
        "id": "zmTYF4pIC8hU"
      },
      "source": [
        "## Problem 1 - Variables and Data Types\n",
        "\n",
        "**Q1: Assign your name to the variable `name`.**"
      ]
    },
    {
      "cell_type": "code",
      "execution_count": null,
      "metadata": {
        "id": "7nV6DmNXC8hU"
      },
      "outputs": [],
      "source": [
        "name = \"Mehul\""
      ]
    },
    {
      "cell_type": "markdown",
      "metadata": {
        "id": "lJN0ReuwC8hV"
      },
      "source": [
        "**Q2: Assign your age (real or fake) to the variable `age`.**"
      ]
    },
    {
      "cell_type": "code",
      "execution_count": null,
      "metadata": {
        "id": "cOLVRz4vC8hV"
      },
      "outputs": [],
      "source": [
        "age = 21"
      ]
    },
    {
      "cell_type": "markdown",
      "metadata": {
        "id": "Qfx6Z1XfC8hV"
      },
      "source": [
        "**Q3: Assign a boolean value to the variable `has_android_phone`.**"
      ]
    },
    {
      "cell_type": "code",
      "execution_count": null,
      "metadata": {
        "id": "31CPz2llC8hW"
      },
      "outputs": [],
      "source": [
        "has_android_phone = 1"
      ]
    },
    {
      "cell_type": "markdown",
      "metadata": {
        "id": "gf144Je4C8hW"
      },
      "source": [
        "You can check the values of these variables by running the next cell."
      ]
    },
    {
      "cell_type": "code",
      "execution_count": null,
      "metadata": {
        "id": "6IRNJPoiC8hW",
        "outputId": "4c546ca8-0ad5-43ba-e35a-86f44ea760dd",
        "colab": {
          "base_uri": "https://localhost:8080/"
        }
      },
      "outputs": [
        {
          "output_type": "execute_result",
          "data": {
            "text/plain": [
              "('Mehul', 21, 1)"
            ]
          },
          "metadata": {},
          "execution_count": 7
        }
      ],
      "source": [
        "name, age, has_android_phone"
      ]
    },
    {
      "cell_type": "markdown",
      "metadata": {
        "id": "yYBIp7WRC8hX"
      },
      "source": [
        "**Q4: Create a dictionary `person` with keys `\"Name\"`, `\"Age\"`, `\"HasAndroidPhone\"` and values using the variables defined above.**"
      ]
    },
    {
      "cell_type": "code",
      "execution_count": null,
      "metadata": {
        "id": "P03Cf9F0C8hX"
      },
      "outputs": [],
      "source": [
        "person = {\"Name\":\"Mehul\", \"Age\" : 21, \"HasAndroidPhone\":1}"
      ]
    },
    {
      "cell_type": "markdown",
      "metadata": {
        "id": "2rbIzqTEC8hX"
      },
      "source": [
        "Let's use the `person` dictionary to print a nice message."
      ]
    },
    {
      "cell_type": "code",
      "execution_count": null,
      "metadata": {
        "id": "SkvtvyOtC8hX",
        "outputId": "1c777d46-48a4-41cb-ab82-1e29517c6514",
        "colab": {
          "base_uri": "https://localhost:8080/"
        }
      },
      "outputs": [
        {
          "output_type": "stream",
          "name": "stdout",
          "text": [
            "Mehul is aged 21, and owns an Android phone.\n"
          ]
        }
      ],
      "source": [
        "print(\"{} is aged {}, and owns an {}.\".format(\n",
        "    person[\"Name\"],\n",
        "    person[\"Age\"],\n",
        "    \"Android phone\" if person[\"HasAndroidPhone\"] else \"iPhone\"\n",
        "))"
      ]
    },
    {
      "cell_type": "markdown",
      "metadata": {
        "id": "nkqNVttTC8hX"
      },
      "source": [
        "**Q4b (Optional): Use a `for` loop to display the `type` of each value stored against each key in `person`.**\n",
        "\n",
        "Here's the expected output for the key `\"Name\"`:\n",
        "\n",
        "```\n",
        "The key \"Name\" has the value \"Derek\" of the type \"<class 'str'>\"\n",
        "```"
      ]
    },
    {
      "cell_type": "code",
      "execution_count": null,
      "metadata": {
        "id": "yxcZyMB-C8hY",
        "outputId": "6d891bfd-8ab7-4885-9797-d70d04f880b8",
        "colab": {
          "base_uri": "https://localhost:8080/"
        }
      },
      "outputs": [
        {
          "output_type": "stream",
          "name": "stdout",
          "text": [
            "Value of 'Name': Mehul, Data type: <class 'str'>\n"
          ]
        }
      ],
      "source": [
        "# this is optional\n",
        "for key, value in person.items():\n",
        "    if key == \"Name\":\n",
        "        print(f\"Value of '{key}': {value}, Data type: {type(value)}\")"
      ]
    },
    {
      "cell_type": "markdown",
      "metadata": {
        "id": "qJ4_ZP54C8hY"
      },
      "source": [
        "Now that you've solved one problem, it would be a good idea to record a snapshot of your notebook."
      ]
    },
    {
      "cell_type": "code",
      "execution_count": null,
      "metadata": {
        "id": "YSR1VjBlC8hY",
        "outputId": "312264af-9b9b-4772-c4c2-4c40923439b8",
        "colab": {
          "base_uri": "https://localhost:8080/"
        }
      },
      "outputs": [
        {
          "output_type": "stream",
          "name": "stdout",
          "text": [
            "[jovian] Detected Colab notebook...\u001b[0m\n",
            "[jovian] jovian.commit() is no longer required on Google Colab. If you ran this notebook from Jovian, \n",
            "then just save this file in Colab using Ctrl+S/Cmd+S and it will be updated on Jovian. \n",
            "Also, you can also delete this cell, it's no longer necessary.\u001b[0m\n"
          ]
        }
      ],
      "source": [
        "jovian.commit(project=project_name,environment=None)"
      ]
    },
    {
      "cell_type": "markdown",
      "metadata": {
        "id": "iCqw3uJJC8hY"
      },
      "source": [
        "## Problem 2 - Working with Lists\n",
        "\n",
        "**Q5: Create a list containing the following 3 elements:**\n",
        "\n",
        "* your favorite color\n",
        "* the number of pets you have\n",
        "* a boolean value describing whether you have previous programming experience\n"
      ]
    },
    {
      "cell_type": "code",
      "execution_count": 9,
      "metadata": {
        "id": "5gPVD6V4C8hY"
      },
      "outputs": [],
      "source": [
        "my_list = [\"blue\",0,bool(1)]"
      ]
    },
    {
      "cell_type": "markdown",
      "metadata": {
        "id": "PFCn2HM-C8hY"
      },
      "source": [
        "Let's see what the list looks like:"
      ]
    },
    {
      "cell_type": "code",
      "execution_count": 2,
      "metadata": {
        "id": "mXA0G4a8C8hY",
        "colab": {
          "base_uri": "https://localhost:8080/"
        },
        "outputId": "7eb20a16-7c34-4553-f79f-95695e395230"
      },
      "outputs": [
        {
          "output_type": "execute_result",
          "data": {
            "text/plain": [
              "('blue', 0, True)"
            ]
          },
          "metadata": {},
          "execution_count": 2
        }
      ],
      "source": [
        "my_list"
      ]
    },
    {
      "cell_type": "markdown",
      "metadata": {
        "id": "_JArEyYlC8hZ"
      },
      "source": [
        "**Q6: Complete the following `print` and `if` statements by accessing the appropriate elements from `my_list`.**\n",
        "\n",
        "*Hint*: Use the list indexing notation `[]`."
      ]
    },
    {
      "cell_type": "code",
      "execution_count": 3,
      "metadata": {
        "id": "XdtRTQtyC8hZ",
        "colab": {
          "base_uri": "https://localhost:8080/"
        },
        "outputId": "8f27bf86-4510-411c-b4ba-a871b1f13f22"
      },
      "outputs": [
        {
          "output_type": "stream",
          "name": "stdout",
          "text": [
            "My favorite color is blue\n"
          ]
        }
      ],
      "source": [
        "print('My favorite color is', my_list[0])"
      ]
    },
    {
      "cell_type": "code",
      "execution_count": 4,
      "metadata": {
        "id": "Jx6CZMyUC8hZ",
        "colab": {
          "base_uri": "https://localhost:8080/"
        },
        "outputId": "414b3ce0-83e4-4746-d80d-635f00ccaf77"
      },
      "outputs": [
        {
          "output_type": "stream",
          "name": "stdout",
          "text": [
            "I have 0 pet(s).\n"
          ]
        }
      ],
      "source": [
        "print('I have {} pet(s).'.format(my_list[1]))"
      ]
    },
    {
      "cell_type": "code",
      "execution_count": 7,
      "metadata": {
        "id": "kuN96ev6C8hZ",
        "colab": {
          "base_uri": "https://localhost:8080/"
        },
        "outputId": "63e7f931-0c2e-4169-969d-dd029db20ecb"
      },
      "outputs": [
        {
          "output_type": "stream",
          "name": "stdout",
          "text": [
            "I have previous programming experience\n"
          ]
        }
      ],
      "source": [
        "if my_list[2] == True:\n",
        "    print(\"I have previous programming experience\")\n",
        "else:\n",
        "    print(\"I do not have previous programming experience\")"
      ]
    },
    {
      "cell_type": "markdown",
      "metadata": {
        "id": "XkpLDUa1C8hZ"
      },
      "source": [
        "**Q7: Add your favorite single digit number to the end of the list using the appropriate list method.**"
      ]
    },
    {
      "cell_type": "code",
      "execution_count": 10,
      "metadata": {
        "id": "u5j1rwC3C8hZ"
      },
      "outputs": [],
      "source": [
        "my_list.append(4)"
      ]
    },
    {
      "cell_type": "markdown",
      "metadata": {
        "id": "Ivr2FxB9C8ha"
      },
      "source": [
        "Let's see if the number shows up in the list."
      ]
    },
    {
      "cell_type": "code",
      "execution_count": 11,
      "metadata": {
        "id": "VSGffGDiC8ha",
        "colab": {
          "base_uri": "https://localhost:8080/"
        },
        "outputId": "8472aafb-28a4-4b60-f394-22e8153c362d"
      },
      "outputs": [
        {
          "output_type": "execute_result",
          "data": {
            "text/plain": [
              "['blue', 0, True, 4]"
            ]
          },
          "metadata": {},
          "execution_count": 11
        }
      ],
      "source": [
        "my_list"
      ]
    },
    {
      "cell_type": "markdown",
      "metadata": {
        "id": "6XOp5JOrC8ha"
      },
      "source": [
        "**Q8: Remove the first element of the list, using the appropriate list method.**\n",
        "\n",
        "*Hint*: Check out methods of list here: https://www.w3schools.com/python/python_ref_list.asp"
      ]
    },
    {
      "cell_type": "code",
      "execution_count": 13,
      "metadata": {
        "id": "dbWALpFxC8ha",
        "colab": {
          "base_uri": "https://localhost:8080/",
          "height": 35
        },
        "outputId": "67600344-65fc-4845-cb9e-86989e00bec6"
      },
      "outputs": [
        {
          "output_type": "execute_result",
          "data": {
            "text/plain": [
              "'blue'"
            ],
            "application/vnd.google.colaboratory.intrinsic+json": {
              "type": "string"
            }
          },
          "metadata": {},
          "execution_count": 13
        }
      ],
      "source": [
        "my_list.pop(0)"
      ]
    },
    {
      "cell_type": "code",
      "execution_count": 14,
      "metadata": {
        "id": "7rZwu1W8C8ha",
        "colab": {
          "base_uri": "https://localhost:8080/"
        },
        "outputId": "5535863b-b45d-465a-ba3a-2aae3ff08cf3"
      },
      "outputs": [
        {
          "output_type": "execute_result",
          "data": {
            "text/plain": [
              "[0, True, 4]"
            ]
          },
          "metadata": {},
          "execution_count": 14
        }
      ],
      "source": [
        "my_list"
      ]
    },
    {
      "cell_type": "markdown",
      "metadata": {
        "id": "SUXMbSQeC8ha"
      },
      "source": [
        "**Q9: Complete the `print` statement below to display the number of elements in `my_list`.**"
      ]
    },
    {
      "cell_type": "code",
      "execution_count": 17,
      "metadata": {
        "id": "CxxcUr16C8hf",
        "colab": {
          "base_uri": "https://localhost:8080/"
        },
        "outputId": "49969e31-3e62-437c-abd8-9f0353476fe1"
      },
      "outputs": [
        {
          "output_type": "stream",
          "name": "stdout",
          "text": [
            "The list has 3 elements.\n"
          ]
        }
      ],
      "source": [
        "print(\"The list has {} elements.\".format(len(my_list)))"
      ]
    },
    {
      "cell_type": "markdown",
      "metadata": {
        "id": "XmRfI1eVC8hf"
      },
      "source": [
        "Well done, you're making good progress! Save your work before continuing"
      ]
    },
    {
      "cell_type": "code",
      "execution_count": null,
      "metadata": {
        "id": "jA22CDZjC8hf"
      },
      "outputs": [],
      "source": [
        "jovian.commit(project=project_name,environment=None)"
      ]
    },
    {
      "cell_type": "markdown",
      "metadata": {
        "id": "ZP09xUa7C8hg"
      },
      "source": [
        "## Problem 3 - Conditions and loops\n",
        "\n",
        "**Q10: Calculate and display the sum of all the numbers divisible by 7 between 18 and 534 i.e. `21+28+35+...+525+532`**.\n",
        "\n",
        "*Hint*: One way to do this is to loop over a `range` using `for` and use an `if` statement inside it."
      ]
    },
    {
      "cell_type": "code",
      "execution_count": 18,
      "metadata": {
        "id": "BjBdOsKLC8hg"
      },
      "outputs": [],
      "source": [
        "# store the final answer in this variable\n",
        "sum_of_numbers = 0\n",
        "\n",
        "# perform the calculation here\n",
        "for n in range(18,535):\n",
        "  if n%7==0:\n",
        "    sum_of_numbers += n\n",
        "\n"
      ]
    },
    {
      "cell_type": "code",
      "execution_count": 19,
      "metadata": {
        "id": "-zphc6-KC8hg",
        "colab": {
          "base_uri": "https://localhost:8080/"
        },
        "outputId": "08a03aa2-a6c9-42c2-b928-21e407297af5"
      },
      "outputs": [
        {
          "output_type": "stream",
          "name": "stdout",
          "text": [
            "The sum of all the numbers divisible by 7 between 18 and 534 is 20461\n"
          ]
        }
      ],
      "source": [
        "print('The sum of all the numbers divisible by 7 between 18 and 534 is', sum_of_numbers)"
      ]
    },
    {
      "cell_type": "markdown",
      "metadata": {
        "id": "X5t4AFjIC8hg"
      },
      "source": [
        "If you are not able to figure out the solution to this problem, you can ask for hints on the community forum: https://jovian.ml/forum/t/assignment-1-python-practice/7761 . Remember to save your work before moving forward."
      ]
    },
    {
      "cell_type": "code",
      "execution_count": null,
      "metadata": {
        "id": "ZeCK3jmaC8hh"
      },
      "outputs": [],
      "source": [
        "jovian.commit(project=project_name,environment=None)"
      ]
    },
    {
      "cell_type": "markdown",
      "metadata": {
        "id": "jv1w23oOC8hh"
      },
      "source": [
        "## Problem 4 - Flying to the Bahamas\n",
        "\n",
        "**Q11: A travel company wants to fly a plane to the Bahamas. Flying the plane costs 5000 dollars. So far, 29 people have signed up for the trip. If the company charges 200 dollars per ticket, what is the profit made by the company?**\n",
        "\n",
        "Fill in values or arithmetic expressions for the variables below."
      ]
    },
    {
      "cell_type": "code",
      "execution_count": 20,
      "metadata": {
        "id": "gJ7nZ9aSC8hh"
      },
      "outputs": [],
      "source": [
        "cost_of_flying_plane = 5000"
      ]
    },
    {
      "cell_type": "code",
      "execution_count": 21,
      "metadata": {
        "id": "-3w0XfPVC8hh"
      },
      "outputs": [],
      "source": [
        "number_of_passengers = 29"
      ]
    },
    {
      "cell_type": "code",
      "execution_count": 22,
      "metadata": {
        "id": "BGo_l4qBC8hh"
      },
      "outputs": [],
      "source": [
        "price_of_ticket = 200"
      ]
    },
    {
      "cell_type": "code",
      "execution_count": 23,
      "metadata": {
        "id": "d8GVN4wTC8hh"
      },
      "outputs": [],
      "source": [
        "profit = number_of_passengers*price_of_ticket - cost_of_flying_plane"
      ]
    },
    {
      "cell_type": "code",
      "execution_count": 24,
      "metadata": {
        "id": "vw3XeTJnC8hi",
        "colab": {
          "base_uri": "https://localhost:8080/"
        },
        "outputId": "ff5a3594-4c91-4367-a11e-f06b9e66128c"
      },
      "outputs": [
        {
          "output_type": "stream",
          "name": "stdout",
          "text": [
            "The company makes of a profit of 800 dollars\n"
          ]
        }
      ],
      "source": [
        "print('The company makes of a profit of {} dollars'.format(profit))"
      ]
    },
    {
      "cell_type": "markdown",
      "metadata": {
        "id": "IQGT2SMFC8hi"
      },
      "source": [
        "**Q11b (Optional): Out of the 29 people who took the flight, only 12 buy tickets to return from the Bahamas on the same plane. If the flying the plane back also costs 5000 dollars, and does the company make an overall profit or loss? The company charges the same fee of 200 dollars per ticket for the return flight.**\n",
        "\n",
        "Use an `if` statement to display the result."
      ]
    },
    {
      "cell_type": "code",
      "execution_count": 25,
      "metadata": {
        "id": "SSqn4AAjC8hi"
      },
      "outputs": [],
      "source": [
        "# this is optional\n",
        "return_passengers = 12\n",
        "profit_on_return = return_passengers*price_of_ticket - cost_of_flying_plane\n",
        "total_profit = profit + profit_on_return"
      ]
    },
    {
      "cell_type": "code",
      "execution_count": 26,
      "metadata": {
        "id": "1Y7flPkcC8hi",
        "colab": {
          "base_uri": "https://localhost:8080/"
        },
        "outputId": "04f40c03-0c10-42ba-a2f3-b2ec75d05cc5"
      },
      "outputs": [
        {
          "output_type": "stream",
          "name": "stdout",
          "text": [
            "The company makes an overall loss of -1800 dollars\n"
          ]
        }
      ],
      "source": [
        "# this is optional\n",
        "if total_profit>0:\n",
        "    print(\"The company makes an overall profit of {} dollars\".format(total_profit))\n",
        "else:\n",
        "    print(\"The company makes an overall loss of {} dollars\".format(total_profit))"
      ]
    },
    {
      "cell_type": "markdown",
      "metadata": {
        "id": "MRmPoBecC8hi"
      },
      "source": [
        "Great work so far! Want to take a break? Remember to save and upload your notebook to record your progress."
      ]
    },
    {
      "cell_type": "code",
      "execution_count": null,
      "metadata": {
        "id": "4KSqyR2iC8hj"
      },
      "outputs": [],
      "source": [
        "jovian.commit(project=project_name,environment=None)"
      ]
    },
    {
      "cell_type": "markdown",
      "metadata": {
        "id": "mLtKsRnLC8hj"
      },
      "source": [
        "## Problem 5 - Twitter Sentiment Analysis\n",
        "\n",
        "Are your ready to perform some *Data Analysis with Python*? In this problem, we'll analyze some fictional tweets and find out whether the overall sentiment of Twitter users is happy or sad. This is a simplified version of an important real world problem called *sentiment analysis*.\n",
        "\n",
        "Before we begin, we need a list of tweets to analyze. We're picking a small number of tweets here, but the exact same analysis can also be done for thousands, or even millions of tweets. The collection of data that we perform analysis on is often called a *dataset*."
      ]
    },
    {
      "cell_type": "code",
      "execution_count": 28,
      "metadata": {
        "id": "-pMA-LefC8hj"
      },
      "outputs": [],
      "source": [
        "tweets = [\n",
        "    \"Wow, what a great day today!! #sunshine\",\n",
        "    \"I feel sad about the things going on around us. #covid19\",\n",
        "    \"I'm really excited to learn Python with @JovianML #zerotopandas\",\n",
        "    \"This is a really nice song. #linkinpark\",\n",
        "    \"The python programming language is useful for data science\",\n",
        "    \"Why do bad things happen to me?\",\n",
        "    \"Apple announces the release of the new iPhone 12. Fans are excited.\",\n",
        "    \"Spent my day with family!! #happy\",\n",
        "    \"Check out my blog post on common string operations in Python. #zerotopandas\",\n",
        "    \"Freecodecamp has great coding tutorials. #skillup\"\n",
        "]"
      ]
    },
    {
      "cell_type": "markdown",
      "metadata": {
        "id": "SPpn2zRnC8hj"
      },
      "source": [
        "Let's begin by answering a very simple but important question about our dataset.\n",
        "\n",
        "**Q12: How many tweets does the dataset contain?**"
      ]
    },
    {
      "cell_type": "code",
      "execution_count": 29,
      "metadata": {
        "id": "ySuF0EOdC8hj"
      },
      "outputs": [],
      "source": [
        "number_of_tweets = len(tweets)"
      ]
    },
    {
      "cell_type": "markdown",
      "metadata": {
        "id": "Z7uicDksC8hj"
      },
      "source": [
        "Let's create two lists of words: `happy_words` and `sad_words`. We will use these to check if a tweet is happy or sad."
      ]
    },
    {
      "cell_type": "code",
      "execution_count": 30,
      "metadata": {
        "id": "AfAEPBAkC8hj"
      },
      "outputs": [],
      "source": [
        "happy_words = ['great', 'excited', 'happy', 'nice', 'wonderful', 'amazing', 'good', 'best']"
      ]
    },
    {
      "cell_type": "code",
      "execution_count": 31,
      "metadata": {
        "id": "ishb5jQPC8hk"
      },
      "outputs": [],
      "source": [
        "sad_words = ['sad', 'bad', 'tragic', 'unhappy', 'worst']"
      ]
    },
    {
      "cell_type": "markdown",
      "metadata": {
        "id": "ZzQPiZKvC8hk"
      },
      "source": [
        "To identify whether a tweet is happy, we can simply check if contains any of the words from `happy_words`. Here's an example:"
      ]
    },
    {
      "cell_type": "code",
      "execution_count": 32,
      "metadata": {
        "id": "d4pG6xVPC8hk"
      },
      "outputs": [],
      "source": [
        "sample_tweet = tweets[0]"
      ]
    },
    {
      "cell_type": "code",
      "execution_count": 33,
      "metadata": {
        "id": "q-hVlujiC8hk",
        "colab": {
          "base_uri": "https://localhost:8080/",
          "height": 35
        },
        "outputId": "9efe36d3-1337-462e-d5e2-f90bca06c595"
      },
      "outputs": [
        {
          "output_type": "execute_result",
          "data": {
            "text/plain": [
              "'Wow, what a great day today!! #sunshine'"
            ],
            "application/vnd.google.colaboratory.intrinsic+json": {
              "type": "string"
            }
          },
          "metadata": {},
          "execution_count": 33
        }
      ],
      "source": [
        "sample_tweet"
      ]
    },
    {
      "cell_type": "code",
      "execution_count": 34,
      "metadata": {
        "id": "NYnaRMjMC8hk"
      },
      "outputs": [],
      "source": [
        "is_tweet_happy = False\n",
        "\n",
        "# Get a word from happy_words\n",
        "for word in happy_words:\n",
        "    # Check if the tweet contains the word\n",
        "    if word in sample_tweet:\n",
        "        # Word found! Mark the tweet as happy\n",
        "        is_tweet_happy = True"
      ]
    },
    {
      "cell_type": "markdown",
      "metadata": {
        "id": "t4tJJ3rrC8hk"
      },
      "source": [
        "Do you understand what we're doing above?\n",
        "\n",
        "> For each word in the list of happy words, we check if is a part of the selected tweet. If the word is indded a part of the tweet, we set the variable `is_tweet_happy` to `True`."
      ]
    },
    {
      "cell_type": "code",
      "execution_count": 35,
      "metadata": {
        "id": "7UwEA9ltC8hk",
        "colab": {
          "base_uri": "https://localhost:8080/"
        },
        "outputId": "6b1ddc00-26fb-4728-d6e7-3b6d58c55d0b"
      },
      "outputs": [
        {
          "output_type": "execute_result",
          "data": {
            "text/plain": [
              "True"
            ]
          },
          "metadata": {},
          "execution_count": 35
        }
      ],
      "source": [
        "is_tweet_happy"
      ]
    },
    {
      "cell_type": "markdown",
      "metadata": {
        "id": "dRr0EMIwC8hl"
      },
      "source": [
        "**Q13: Determine the number of tweets in the dataset that can be classified as happy.**\n",
        "\n",
        "*Hint*: You'll need to use a loop inside another loop to do this. Use the code from the example shown above."
      ]
    },
    {
      "cell_type": "code",
      "execution_count": 36,
      "metadata": {
        "id": "PyGrgxl_C8hl"
      },
      "outputs": [],
      "source": [
        "# store the final answer in this variable\n",
        "number_of_happy_tweets = 0\n",
        "\n",
        "# perform the calculations here\n",
        "for sample_tweet in tweets:\n",
        "  is_tweet_happy = False\n",
        "\n",
        "  # Get a word from happy_words\n",
        "  for word in happy_words:\n",
        "      # Check if the tweet contains the word\n",
        "      if word in sample_tweet:\n",
        "          # Word found! Mark the tweet as happy\n",
        "          is_tweet_happy = True\n",
        "  if is_tweet_happy == True:\n",
        "    number_of_happy_tweets += 1"
      ]
    },
    {
      "cell_type": "code",
      "execution_count": 37,
      "metadata": {
        "id": "VSMgsSIkC8hl",
        "colab": {
          "base_uri": "https://localhost:8080/"
        },
        "outputId": "cd723ccb-54e8-4ae2-9a52-75ce918b1f31"
      },
      "outputs": [
        {
          "output_type": "stream",
          "name": "stdout",
          "text": [
            "Number of happy tweets: 6\n"
          ]
        }
      ],
      "source": [
        "print(\"Number of happy tweets:\", number_of_happy_tweets)"
      ]
    },
    {
      "cell_type": "markdown",
      "metadata": {
        "id": "Rh8AFeQZC8hl"
      },
      "source": [
        "If you are not able to figure out the solution to this problem, you can ask for hints on the community forum: https://jovian.ml/forum/t/assignment-1-python-practice/7761 . Also try adding `print` statements inside your loops to inspect variables and make sure your logic is correct."
      ]
    },
    {
      "cell_type": "markdown",
      "metadata": {
        "id": "w_CVdG22C8hl"
      },
      "source": [
        "**Q14: What fraction of the total number of tweets are happy?**\n",
        "\n",
        "For example, if 2 out of 10 tweets are happy, then the answer is `2/10` i.e. `0.2`."
      ]
    },
    {
      "cell_type": "code",
      "execution_count": 38,
      "metadata": {
        "id": "Df8VYVCUC8hl"
      },
      "outputs": [],
      "source": [
        "happy_fraction = number_of_happy_tweets/number_of_tweets"
      ]
    },
    {
      "cell_type": "code",
      "execution_count": 39,
      "metadata": {
        "id": "AWovZS3dC8hl",
        "colab": {
          "base_uri": "https://localhost:8080/"
        },
        "outputId": "eefa60be-8b98-4e7d-9c23-42417fac0e51"
      },
      "outputs": [
        {
          "output_type": "stream",
          "name": "stdout",
          "text": [
            "The fraction of happy tweets is: 0.6\n"
          ]
        }
      ],
      "source": [
        "print(\"The fraction of happy tweets is:\", happy_fraction)"
      ]
    },
    {
      "cell_type": "markdown",
      "metadata": {
        "id": "CYKHwmCvC8hm"
      },
      "source": [
        "To identify whether a tweet is sad, we can simply check if contains any of the words from `sad_words`.\n",
        "\n",
        "**Q15: Determine the number of tweets in the dataset that can be classified as sad.**"
      ]
    },
    {
      "cell_type": "code",
      "execution_count": 40,
      "metadata": {
        "id": "4Pe0R51_C8hm"
      },
      "outputs": [],
      "source": [
        "# store the final answer in this variable\n",
        "number_of_sad_tweets = 0\n",
        "\n",
        "# perform the calculations here\n",
        "for sample_tweet in tweets:\n",
        "  is_tweet_sad = False\n",
        "\n",
        "  # Get a word from sad_words\n",
        "  for word in sad_words:\n",
        "      # Check if the tweet contains the word\n",
        "      if word in sample_tweet:\n",
        "          # Word found! Mark the tweet as happy\n",
        "          is_tweet_sad = True\n",
        "  if is_tweet_sad == True:\n",
        "    number_of_sad_tweets += 1"
      ]
    },
    {
      "cell_type": "code",
      "execution_count": 41,
      "metadata": {
        "id": "32LILtX6C8hm",
        "colab": {
          "base_uri": "https://localhost:8080/"
        },
        "outputId": "46a606d2-72fc-4045-c189-d6c9e58e27c3"
      },
      "outputs": [
        {
          "output_type": "stream",
          "name": "stdout",
          "text": [
            "Number of sad tweets: 2\n"
          ]
        }
      ],
      "source": [
        "print(\"Number of sad tweets:\", number_of_sad_tweets)"
      ]
    },
    {
      "cell_type": "markdown",
      "metadata": {
        "id": "v2m7cWKgC8hm"
      },
      "source": [
        "**Q16: What fraction of the total number of tweets are sad?**"
      ]
    },
    {
      "cell_type": "code",
      "execution_count": 42,
      "metadata": {
        "id": "q4dMCpbcC8hm"
      },
      "outputs": [],
      "source": [
        "sad_fraction = number_of_sad_tweets/number_of_tweets"
      ]
    },
    {
      "cell_type": "code",
      "execution_count": 43,
      "metadata": {
        "id": "lqW6jdwbC8hm",
        "colab": {
          "base_uri": "https://localhost:8080/"
        },
        "outputId": "b67452be-5d7b-4373-9044-ddb0e07aa417"
      },
      "outputs": [
        {
          "output_type": "stream",
          "name": "stdout",
          "text": [
            "The fraction of sad tweets is: 0.2\n"
          ]
        }
      ],
      "source": [
        "print(\"The fraction of sad tweets is:\", sad_fraction)"
      ]
    },
    {
      "cell_type": "markdown",
      "metadata": {
        "id": "tNcTS7nYC8hm"
      },
      "source": [
        "The rest of this problem is optional. Let's save your work before continuing."
      ]
    },
    {
      "cell_type": "code",
      "execution_count": null,
      "metadata": {
        "id": "AsRpKWTsC8hm"
      },
      "outputs": [],
      "source": [
        "jovian.commit(project=project_name,environment=None)"
      ]
    },
    {
      "cell_type": "markdown",
      "metadata": {
        "id": "gg_Sfj_VC8hn"
      },
      "source": [
        "Great work, even with some basic analysis, we already know a lot about the sentiment of the tweets given to us. Let us now define a metric called \"sentiment score\", to summarize the overall sentiment of the tweets.\n",
        "\n",
        "**Q16b (Optional): Calculate the sentiment score, which is defined as the difference betweek the fraction of happy tweets and the fraction of sad tweets.**"
      ]
    },
    {
      "cell_type": "code",
      "execution_count": 44,
      "metadata": {
        "id": "JU4zSOPeC8hn"
      },
      "outputs": [],
      "source": [
        "sentiment_score = happy_fraction-sad_fraction"
      ]
    },
    {
      "cell_type": "code",
      "execution_count": 45,
      "metadata": {
        "id": "Fw1ht4-UC8hn",
        "colab": {
          "base_uri": "https://localhost:8080/"
        },
        "outputId": "f5b92069-079b-4855-acbf-36904d44a327"
      },
      "outputs": [
        {
          "output_type": "stream",
          "name": "stdout",
          "text": [
            "The sentiment score for the given tweets is 0.39999999999999997\n"
          ]
        }
      ],
      "source": [
        "print(\"The sentiment score for the given tweets is\", sentiment_score)"
      ]
    },
    {
      "cell_type": "markdown",
      "metadata": {
        "id": "oE8yBKLJC8hn"
      },
      "source": [
        "In a real world scenario, we could calculate & record the sentiment score for all the tweets sent out every day. This information can be used to plot a graph and study the trends in the changing sentiment of the world. The following graph was creating using the Python data visualization library `matplotlib`, which we'll cover later in the course.\n",
        "\n",
        "<img src=\"https://i.imgur.com/6CCIwCb.png\" style=\"width:400px\">\n",
        "\n",
        "What does the sentiment score represent? Based on the value of the sentiment score, can you identify if the overall sentiment of the dataset is happy or sad?\n",
        "\n",
        "**Q16c (Optional): Display whether the overall sentiment of the given dataset of tweets is happy or sad, using the sentiment score.**"
      ]
    },
    {
      "cell_type": "code",
      "execution_count": null,
      "metadata": {
        "id": "hT3OfSOyC8hp"
      },
      "outputs": [],
      "source": [
        "if ???:\n",
        "    print(\"The overall sentiment is happy\")\n",
        "else:\n",
        "    print(\"The overall sentiment is sad\")"
      ]
    },
    {
      "cell_type": "markdown",
      "metadata": {
        "id": "Prx4XHB2C8hq"
      },
      "source": [
        "Finally, it's also important to track how many tweets are neutral i.e. neither happy nor sad. If a large fraction of tweets are marked neutral, maybe we need to improve our lists of happy and sad words.\n",
        "\n",
        "**Q16d (Optional): What is the fraction of tweets that are neutral i.e. neither happy nor sad.**"
      ]
    },
    {
      "cell_type": "code",
      "execution_count": null,
      "metadata": {
        "id": "BFqjIel_C8hq"
      },
      "outputs": [],
      "source": [
        "# store the final answer in this variable\n",
        "number_of_neutral_tweets = 0\n",
        "\n",
        "# perform the calculation here\n",
        "???"
      ]
    },
    {
      "cell_type": "code",
      "execution_count": null,
      "metadata": {
        "id": "LVCuK__-C8hq"
      },
      "outputs": [],
      "source": [
        "neutral_fraction = ???"
      ]
    },
    {
      "cell_type": "code",
      "execution_count": null,
      "metadata": {
        "id": "-eGOj9lEC8hq"
      },
      "outputs": [],
      "source": [
        "print('The fraction of neutral tweets is', neutral_fraction)"
      ]
    },
    {
      "cell_type": "markdown",
      "metadata": {
        "id": "txgZa5msC8hq"
      },
      "source": [
        "Ponder upon these questions and try some experiments to hone your skills further:\n",
        "\n",
        "* What are the limitations of our approach? When will it go wrong or give incorrect results?\n",
        "* How can we improve our approach to address the limitations?\n",
        "* What are some other questions you would like to ask, given a list of tweets?\n",
        "* Try collecting some real tweets from your Twitter timeline and repeat this analysis. Do the results make sense?\n",
        "\n",
        "**IMPORTANT NOTE**: If you want to try out these experiments, please create a new notebook using the \"New Notebook\" button on your Jovian.ml profile, to avoid making unintended changes to your assignment submission notebook."
      ]
    },
    {
      "cell_type": "markdown",
      "metadata": {
        "id": "0j5hYgmjC8hq"
      },
      "source": [
        "## Submission\n",
        "\n",
        "Congratulations on making it this far! You've reached the end of this assignment, and you just completed your first data analysis problem. It's time to record one final version of your notebook for submission.\n",
        "\n",
        "Make a submission here by filling the submission form: https://jovian.ml/learn/data-analysis-with-python-zero-to-pandas/assignment/assignment-1-python-basics-practice"
      ]
    },
    {
      "cell_type": "code",
      "execution_count": null,
      "metadata": {
        "scrolled": false,
        "id": "nWBgSwM4C8hr"
      },
      "outputs": [],
      "source": [
        "jovian.commit(project=project_name,environment=None)"
      ]
    }
  ],
  "metadata": {
    "kernelspec": {
      "display_name": "Python 3",
      "language": "python",
      "name": "python3"
    },
    "language_info": {
      "codemirror_mode": {
        "name": "ipython",
        "version": 3
      },
      "file_extension": ".py",
      "mimetype": "text/x-python",
      "name": "python",
      "nbconvert_exporter": "python",
      "pygments_lexer": "ipython3",
      "version": "3.6.13"
    },
    "colab": {
      "provenance": [],
      "include_colab_link": true
    }
  },
  "nbformat": 4,
  "nbformat_minor": 0
}